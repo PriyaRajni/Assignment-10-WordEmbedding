{
 "cells": [
  {
   "cell_type": "markdown",
   "id": "c1298d67",
   "metadata": {},
   "source": [
    "Perform the installation : pip install gensim scikit-learn nltk\n",
    "Download the nltk_data sets"
   ]
  },
  {
   "cell_type": "code",
   "execution_count": 15,
   "id": "243f2483",
   "metadata": {},
   "outputs": [
    {
     "name": "stderr",
     "output_type": "stream",
     "text": [
      "[nltk_data] Downloading package brown to\n",
      "[nltk_data]     /Users/priyarajni/nltk_data...\n",
      "[nltk_data]   Package brown is already up-to-date!\n",
      "[nltk_data] Downloading package punkt to\n",
      "[nltk_data]     /Users/priyarajni/nltk_data...\n",
      "[nltk_data]   Package punkt is already up-to-date!\n",
      "[nltk_data] Downloading package punkt_tab to\n",
      "[nltk_data]     /Users/priyarajni/nltk_data...\n",
      "[nltk_data]   Unzipping tokenizers/punkt_tab.zip.\n",
      "[nltk_data] Downloading package wordnet to\n",
      "[nltk_data]     /Users/priyarajni/nltk_data...\n",
      "[nltk_data] Downloading package omw-1.4 to\n",
      "[nltk_data]     /Users/priyarajni/nltk_data...\n"
     ]
    },
    {
     "data": {
      "text/plain": [
       "True"
      ]
     },
     "execution_count": 15,
     "metadata": {},
     "output_type": "execute_result"
    }
   ],
   "source": [
    "import nltk\n",
    "from gensim.models import Word2Vec\n",
    "from nltk.corpus import brown\n",
    "from nltk.tokenize import word_tokenize\n",
    "from sklearn.linear_model import LogisticRegression\n",
    "from sklearn.model_selection import train_test_split\n",
    "from sklearn.metrics import accuracy_score\n",
    "import numpy as np\n",
    "\n",
    "nltk.download('brown')\n",
    "nltk.download('punkt')\n",
    "nltk.download('punkt_tab')\n",
    "nltk.download('wordnet')\n",
    "nltk.download('omw-1.4')"
   ]
  },
  {
   "cell_type": "markdown",
   "id": "bb5fa294",
   "metadata": {},
   "source": [
    "Use the Word2Vec for the Shakespeare corpus data set"
   ]
  },
  {
   "cell_type": "code",
   "execution_count": null,
   "id": "3d4950b0",
   "metadata": {},
   "outputs": [],
   "source": [
    "import nltk\n",
    "nltk.data.path.append(\"/Users/priyarajni/nltk_data\")\n",
    "from nltk.tokenize import word_tokenize, sent_tokenize\n",
    "from nltk.corpus import brown\n",
    "from gensim.models import Word2Vec\n",
    "\n",
    "sentences_brown = brown.sents()\n",
    "model_brown = Word2Vec(sentences=sentences_brown, vector_size=100, window=5, sg=1, min_count=2, workers=4)\n",
    "model_brown.save(\"word2vec_brown.model\")\n",
    "\n",
    "with open('shakespeare.txt', 'r', encoding='utf-8') as f:\n",
    "    shakespeare_text = f.read()\n",
    "sentences_shakespeare = [word_tokenize(sent.lower()) for sent in sent_tokenize(shakespeare_text)]\n",
    "model_shakespeare = Word2Vec(sentences=sentences_shakespeare, vector_size=100, window=5, sg=1, min_count=2, workers=4)\n",
    "model_shakespeare.save(\"word2vec_shakespeare.model\")"
   ]
  },
  {
   "cell_type": "markdown",
   "id": "8516b492",
   "metadata": {},
   "source": [
    "Perform the movie review"
   ]
  },
  {
   "cell_type": "code",
   "execution_count": null,
   "id": "bc493f5a",
   "metadata": {},
   "outputs": [
    {
     "name": "stdout",
     "output_type": "stream",
     "text": [
      "Brown model accuracy: 0.5\n",
      "Shakespeare model accuracy: 0.5\n"
     ]
    }
   ],
   "source": [
    "from sklearn.linear_model import LogisticRegression\n",
    "from sklearn.model_selection import train_test_split\n",
    "from sklearn.metrics import accuracy_score\n",
    "from nltk.tokenize import word_tokenize\n",
    "import numpy as np\n",
    "\n",
    "# movie reviews\n",
    "reviews = [\n",
    "    \"This movie was great and had excellent acting\",\n",
    "    \"Absolutely terrible and boring film\",\n",
    "    \"An enjoyable and emotional experience\",\n",
    "    \"Not worth the time, very disappointing\"\n",
    "]\n",
    "labels = [1, 0, 1, 0]  # 1=positive, 0=negative\n",
    "\n",
    "# Function to get average word vectors from the model\n",
    "def avg_embedding(words, model):\n",
    "    valid = [w for w in words if w in model.wv]\n",
    "    return np.mean([model.wv[w] for w in valid], axis=0) if valid else np.zeros(model.vector_size)\n",
    "\n",
    "# ----- Using Brown-trained model -----\n",
    "X_brown = [avg_embedding(word_tokenize(r.lower()), model_brown) for r in reviews]\n",
    "X_train, X_test, y_train, y_test = train_test_split(X_brown, labels, test_size=0.5, random_state=42, stratify=labels)\n",
    "clf = LogisticRegression(max_iter=1000).fit(X_train, y_train)\n",
    "preds = clf.predict(X_test)\n",
    "print(\"Brown model accuracy:\", accuracy_score(y_test, preds))\n",
    "\n",
    "# ----- Using Shakespeare-trained model -----\n",
    "X_shakespeare = [avg_embedding(word_tokenize(r.lower()), model_shakespeare) for r in reviews]\n",
    "X_train, X_test, y_train, y_test = train_test_split(X_shakespeare, labels, test_size=0.5, random_state=42,  stratify=labels)\n",
    "clf = LogisticRegression(max_iter=1000).fit(X_train, y_train)\n",
    "preds = clf.predict(X_test)\n",
    "print(\"Shakespeare model accuracy:\", accuracy_score(y_test, preds))\n"
   ]
  }
 ],
 "metadata": {
  "kernelspec": {
   "display_name": "venv_word2vec",
   "language": "python",
   "name": "python3"
  },
  "language_info": {
   "codemirror_mode": {
    "name": "ipython",
    "version": 3
   },
   "file_extension": ".py",
   "mimetype": "text/x-python",
   "name": "python",
   "nbconvert_exporter": "python",
   "pygments_lexer": "ipython3",
   "version": "3.11.0"
  }
 },
 "nbformat": 4,
 "nbformat_minor": 5
}
